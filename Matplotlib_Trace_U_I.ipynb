{
 "cells": [
  {
   "cell_type": "markdown",
   "metadata": {},
   "source": [
    "# Tracé de la caractéristique courant - tension d'une source de tension"
   ]
  },
  {
   "cell_type": "code",
   "execution_count": null,
   "metadata": {},
   "outputs": [],
   "source": [
    "# import de la bibliothèque numpy (permet de faire des calculs avec Python) en lui donnant le surnom np\n",
    "import numpy as np\n",
    "\n",
    "# import de la bibliothèque matplotlib (tracé de graphiques) en lui donnant le surnom plt\n",
    "import matplotlib.pyplot as plt"
   ]
  },
  {
   "cell_type": "code",
   "execution_count": null,
   "metadata": {
    "scrolled": true
   },
   "outputs": [],
   "source": [
    "#On renseigne les valeurs des mesures (UAB et I) dans 2 tableaux (\"array\" signifie \"tableau\")\n",
    "#Compléter les séries de mesures.\n",
    "#Attention, en Python, le séparateur de valeurs est la virgule et le symbole décimal est le point\n",
    "\n",
    "\n",
    "UAB = np.array([0,0.5,1.0])\n",
    "I = np.array([0, 0.23,0.45])\n",
    "plt.plot(I, UAB,\"r+\")\n",
    "\n",
    "\n",
    "plt.show() # affiche la figure à l'écran\n",
    "\n",
    "\n",
    "#Les valeurs de l'intensité I sont en milliampère, les convertir en ampère (multiplier par 10**-3)\n"
   ]
  },
  {
   "cell_type": "markdown",
   "metadata": {},
   "source": [
    "### Modification de la représentation : \n",
    "**couleur :**\n",
    "\n",
    "b \tbleu, \tg \tvert, \tr \trouge, \tc \tcyan,\n",
    "m \tmagenta, \ty \tjaune, \tk \tnoir, \tw \tblanc\n",
    "\n",
    "**trait entre les points :**\n",
    "\n",
    "*   - \tcontinue \t-- \ttraitillé\n",
    "*   -. \ttrait-point \t: \tpointillé\n",
    "\n",
    "**forme des points :**\n",
    "*  . \tpoint \t, \tpixel \to \tcercle \ts \tcarré\n",
    "*  v \ttriangle vers le bas \t^ \ttriangle vers le haut \t< \ttriangle vers la gauche \t> \ttriangle vers la droite\n",
    "*  p \tpentagone \t* \tétoile \th \thexagone 1 \tH \thexagone 2\n",
    "*  + \tplus \tx \tx \tD \tdiamant \td \tpetit diamond\n",
    "*  | \tbarre verticale \t_ \tbarre horizontale \t\t\t\t"
   ]
  },
  {
   "cell_type": "code",
   "execution_count": null,
   "metadata": {},
   "outputs": [],
   "source": [
    "#recopier ici la fonction plot, et son affichage, en modifiant la représentation des points\n"
   ]
  },
  {
   "cell_type": "markdown",
   "metadata": {},
   "source": [
    "#### Pour créer un graphique plus grand, par exemple de 10x8 pouces avec une résolution de 80 points par pouce\n",
    "la commande est figure, à insérer avant la commande plot\n",
    "\n",
    "* figure(figsize=(10,8), dpi=80)\n",
    "\n",
    "Afficher le graphique dans une autre taille"
   ]
  },
  {
   "cell_type": "code",
   "execution_count": null,
   "metadata": {},
   "outputs": [],
   "source": []
  },
  {
   "cell_type": "markdown",
   "metadata": {},
   "source": [
    "\n",
    "# Ecriture scientifique pour l'affichage de l'intensité\n",
    "plt.ticklabel_format(style='scientific', axis='x', scilimits=(0,0))\n",
    "plt.xlabel(\"I (A)\")\n",
    "plt.ylabel(\"UAB (V)\")\n",
    "\n",
    "plt.title(\"Tension mesurée en fonction de l'intensité mesurée\")\n",
    "plt.show()\n"
   ]
  },
  {
   "cell_type": "code",
   "execution_count": null,
   "metadata": {
    "scrolled": true
   },
   "outputs": [],
   "source": [
    "# import de la bibliothèque pour faire une régression linéaire\n",
    "\n",
    "from scipy.stats import linregress\n",
    "\n",
    "# Regression linéaire pour la modélisation\n",
    "regression=linregress(I,UAB)\n",
    "pente=regression[0]\n",
    "ordonnee_origine = regression[1]\n",
    "\n",
    "print (\"U0_g = \",ordonnee_origine,\"V\")\n",
    "print (\"R_g = \",abs(pente), chr(937))\n"
   ]
  },
  {
   "cell_type": "code",
   "execution_count": null,
   "metadata": {},
   "outputs": [],
   "source": [
    "pente_a = round(pente,1)\n",
    "ordonnee_origine_a = round (ordonnee_origine,2)\n",
    "\n",
    "print (\"U0_g = \",ordonnee_origine_a,\"V\")\n",
    "print (\"R_g = \",abs(pente_a), chr(937))"
   ]
  },
  {
   "cell_type": "code",
   "execution_count": null,
   "metadata": {},
   "outputs": [],
   "source": [
    "# On veut tracer la régression linéaire sur les points issus des données\n",
    "# valeur minimum des abscisses  \n",
    "mn=np.min(I)\n",
    "# valeur maximum des abscisses \n",
    "mx=np.max(I)\n",
    "I_mod=np.linspace(mn,mx,500)\n",
    "U_mod=ordonnee_origine + pente*I_mod\n",
    "\n",
    "plt.plot(I_mod, U_mod,'-r', label=\"modélisation des données\")\n",
    "plt.plot(I, UAB, \"bo\", label=\"données expérimentales\")\n",
    "# Ecriture scientifique pour l'affichage de l'intensité\n",
    "plt.ticklabel_format(style='scientific', axis='x', scilimits=(0,0))\n",
    "plt.xlabel(\"I (A)\")\n",
    "plt.ylabel(\"UAB (V)\")\n",
    "plt.legend() \n",
    "plt.title(\"Tension délivrée en fonction de l'intensité mesurée\")\n",
    "\n",
    "plt.show() "
   ]
  },
  {
   "cell_type": "code",
   "execution_count": null,
   "metadata": {},
   "outputs": [],
   "source": [
    "# Tracé avec affichage de l'équation de la droite\n",
    "plt.plot(I_mod, U_mod,'-r',label=\"modélisation des données\")\n",
    "plt.plot(I, UAB, \"bo\", label=\"données expérimentales\")\n",
    "# Ecriture scientifique pour l'affichage de l'intensité\n",
    "plt.ticklabel_format(style='scientific', axis='x', scilimits=(0,0))\n",
    "plt.xlabel(\"I (A)\")\n",
    "plt.ylabel(\"UAB (V)\")\n",
    "plt.legend() \n",
    "plt.title(\"Tension délivrée en fonction de l'intensité mesurée\")\n",
    "\n",
    "# Affichage de la pente et de l'ordonnée à l'origine sur le graphique\n",
    "#(le signe multiplié est codé par le caractère Unicode 215) dans une boite de texte.\n",
    "# On renseigne les coordonnées d'affichage de la boite de texte et le texte à afficher\n",
    "plt.text(3,1.2,\"UAB=\" + str(ordonnee_origine_a)+ chr(43)+ str(pente_a)+ chr(215)+\"I\"\n",
    "        ,size=12,  \n",
    "         # On crée une boite aux coins ronds, au bord noir et remplie en cyan \n",
    "         bbox=dict(boxstyle=\"round\",ec=(\"k\"),fc=(\"c\")))\n",
    "\n",
    "plt.savefig('caracteristique_U_I.png')"
   ]
  },
  {
   "cell_type": "markdown",
   "metadata": {},
   "source": [
    "Ouvrir le fichier créé (caracteristique_U_I.png).  \n",
    "Dans le menu, cliquer sur File puis Open."
   ]
  },
  {
   "cell_type": "code",
   "execution_count": null,
   "metadata": {},
   "outputs": [],
   "source": []
  }
 ],
 "metadata": {
  "kernelspec": {
   "display_name": "Python 3",
   "language": "python",
   "name": "python3"
  },
  "language_info": {
   "codemirror_mode": {
    "name": "ipython",
    "version": 3
   },
   "file_extension": ".py",
   "mimetype": "text/x-python",
   "name": "python",
   "nbconvert_exporter": "python",
   "pygments_lexer": "ipython3",
   "version": "3.7.3"
  }
 },
 "nbformat": 4,
 "nbformat_minor": 2
}
