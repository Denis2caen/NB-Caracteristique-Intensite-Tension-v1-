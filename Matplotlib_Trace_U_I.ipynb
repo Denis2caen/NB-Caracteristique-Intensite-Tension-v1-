{
 "cells": [
  {
   "cell_type": "markdown",
   "metadata": {},
   "source": [
    "# Tracé de la caractéristique tension-intensité d'un conducteur ohmique"
   ]
  },
  {
   "cell_type": "markdown",
   "metadata": {},
   "source": [
    "### 1.  A partir des mesures de tension UAB (V) et d'intensité de courant i(mA), on cherche à représenter UAB (V) en fonction de I (A)"
   ]
  },
  {
   "cell_type": "markdown",
   "metadata": {},
   "source": [
    "#### **1.1.** Importation des bibliothèques nécessaires"
   ]
  },
  {
   "cell_type": "code",
   "execution_count": null,
   "metadata": {},
   "outputs": [],
   "source": [
    "# import de la bibliothèque numpy (permet de faire des calculs avec Python) en lui donnant le surnom np\n",
    "import numpy as np\n",
    "\n",
    "# import de la bibliothèque matplotlib (tracé de graphiques) en lui donnant le surnom plt\n",
    "import matplotlib.pyplot as plt"
   ]
  },
  {
   "cell_type": "markdown",
   "metadata": {},
   "source": [
    "#### **1.2.** Création des tableaux de valeurs et de la courbe, puis affichage"
   ]
  },
  {
   "cell_type": "code",
   "execution_count": null,
   "metadata": {
    "scrolled": false
   },
   "outputs": [],
   "source": [
    "#On renseigne les valeurs des mesures (UAB et I) dans 2 tableaux (\"array\" signifie \"tableau\")\n",
    "#Attention, en Python, le séparateur de valeurs est la virgule et le symbole décimal est le point\n",
    "\n",
    "UAB = np.array([0,0.5,1.0,10])\n",
    "I = np.array([0, 0.23,0.45,4.5])*10**-3\n",
    "plt.plot(I, UAB,\"r+\") #créé le graphique\n",
    "\n",
    "\n",
    "plt.show() # affiche la figure à l'écran\n",
    "\n",
    "\n",
    "#Les valeurs de l'intensité I sont en milliampère, les convertir en ampère (multiplier par 10**-3)\n"
   ]
  },
  {
   "cell_type": "markdown",
   "metadata": {},
   "source": [
    "Revenir dans la cellule ci-dessus et **compléter les séries de mesures avec les valeurs du tableau suivant** :\n",
    "\n",
    "|UAB(V)|0.0|0.5|1.0|1.2|1.6|2.1|3.2|3.6|3.7|4.3|4.5|5.0|5.1|6.0|7.0|7.5|8.0|9.0|9.6|10.0|\n",
    "|:---:|:---:|:---:|:---:|:---:|:---:|:---:|:---:|:---:|:---:|:---:|:---:|:---:|:---:|:---:|:---:|:---:|:---:|:---:|:---:|:---:|\n",
    "| **I(mA)** |0.0|0.23|0.45|0.56|0.73|0.95|1.45|1.60|1.68|2.00|2.05|2.27|2.30|2.73|3.20|3.40|3.64|4.10|4.40|4.50|"
   ]
  },
  {
   "cell_type": "markdown",
   "metadata": {},
   "source": [
    "**Les valeurs de l'intensité I sont en milliampère,** les convertir en ampère (multiplier par 10**-3)"
   ]
  },
  {
   "cell_type": "markdown",
   "metadata": {},
   "source": [
    "#### 1.3. Modification de la représentation : \n",
    "Dans la commande *plt.plot(I, UAB,\"r+\")*,  r+ signifie que les points seront représentés par le signe *+* et en rouge.  \n",
    "Les autres possibilités sont :  \n",
    "\n",
    "**- couleur :**\n",
    "\n",
    "> b \tbleu, \tg \tvert, \tr \trouge, \tc \tcyan,  \n",
    "> m \tmagenta, \ty \tjaune, \tk \tnoir, \tw \tblanc\n",
    "\n",
    "**- trait entre les points :**\n",
    "\n",
    ">  \"-\" \tcontinue \t-- \ttraitillé  \n",
    ">  -. \ttrait-point \t: \tpointillé\n",
    "\n",
    "**- forme des points :**  \n",
    "\n",
    "| **.** \tpoint \t| **,** \tpixel |\t**o** \tcercle| **s** \tcarré  |  \n",
    "|:---|:---|:---|:---|  \n",
    "|**v** \ttriangle vers le bas |**^** \ttriangle vers le haut |\t**<** \ttriangle vers la gauche |\t**>** \ttriangle vers la droite  |  \n",
    "|**p** \tpentagone |\t* \tétoile |\t**h**\thexagone 1 |\t**H** \thexagone 2  |  \n",
    "|**\\+** \tplus |\t**x** \tx |\t**D** \tdiamant |\t**d** \tpetit diamond  |  \n",
    "| \|\tbarre verticale |\t*_ *\tbarre horizontale \t| |"
   ]
  },
  {
   "cell_type": "code",
   "execution_count": null,
   "metadata": {},
   "outputs": [],
   "source": [
    "#recopier ici la fonction plt.plot, et son affichage (plt.show()), en modifiant la représentation des points\n"
   ]
  },
  {
   "cell_type": "markdown",
   "metadata": {},
   "source": [
    "#### 1.4. Pour créer un graphique plus grand, par exemple de 10x8 pouces avec une résolution de 80 points par pouce,\n",
    "la commande est *figure*, à insérer avant la commande *plt.plot* :  \n",
    "\n",
    "> *plt.figure(figsize=(10,8), dpi=80)*  \n",
    "\n",
    "*La figure aurait alors, ici, une dimension de 10x80 par 8x80, soit 800 pixels par 640 pixels.*  \n",
    "*Si dpi n'est pas précisé, il aura la valeur 100.*\n",
    "\n",
    "Afficher le graphique dans une autre taille (se replacer dans la deuxième cellule de code et placer ***plt.figure(figsize=(10,8), dpi=80)*** avant *plt.plot* et *plt.show()*."
   ]
  },
  {
   "cell_type": "markdown",
   "metadata": {},
   "source": [
    "\n",
    "### 2. à l'aide d'une régression linéaire, déterminer la valeur de la résistance R(ohm).\n",
    "Utiliser l'écriture scientifique pour l'affichage de l'intensité.  \n",
    "La commande est :  \n",
    "*plt.ticklabel_format(style='scientific', axis='x', scilimits=(0,0))*  \n",
    "et *plt.xlabel* et *plt.ylabel* permettent d'afficher le nom des axes."
   ]
  },
  {
   "cell_type": "code",
   "execution_count": null,
   "metadata": {},
   "outputs": [],
   "source": [
    "plt.ticklabel_format(style='scientific', axis='x', scilimits=(0,0))\n",
    "plt.xlabel(\"I (A)\") #Faire apparaître l'axe des abscisses\n",
    "plt.ylabel(\"UAB (V)\") #Faire apparaître l'axe des ordonnées\n",
    "plt.plot(I, UAB,\"bD\") \n",
    "\n",
    "plt.title(\"Tension mesurée en fonction de l'intensité mesurée\")\n",
    "plt.show()\n"
   ]
  },
  {
   "cell_type": "code",
   "execution_count": null,
   "metadata": {
    "scrolled": true
   },
   "outputs": [],
   "source": [
    "# import de la bibliothèque pour faire une régression linéaire\n",
    "\n",
    "from scipy.stats import linregress\n",
    "\n",
    "# Regression linéaire pour la modélisation\n",
    "regression=linregress(I,UAB)\n",
    "pente=regression[0]\n",
    "ordonnee_origine = regression[1]\n",
    "\n",
    "print (\"L'ordonnée à l'origine est U0_g = \",ordonnee_origine,\"V\")\n",
    "print (\"Le coeeficient directeur de la droite est R_g = \",abs(pente), chr(937))\n"
   ]
  },
  {
   "cell_type": "markdown",
   "metadata": {},
   "source": [
    "Avec *round*, on choisit le nombre de décimales."
   ]
  },
  {
   "cell_type": "code",
   "execution_count": null,
   "metadata": {},
   "outputs": [],
   "source": [
    "pente_a = round(pente,1)\n",
    "ordonnee_origine_a = round (ordonnee_origine,2)\n",
    "\n",
    "print (\"U0_g = \",ordonnee_origine_a,\"V\")\n",
    "print (\"R_g = \",abs(pente_a), chr(937))"
   ]
  },
  {
   "cell_type": "code",
   "execution_count": null,
   "metadata": {},
   "outputs": [],
   "source": [
    "# On veut tracer la régression linéaire sur les points issus des données\n",
    "# valeur minimum des abscisses  \n",
    "mn=np.min(I)\n",
    "# valeur maximum des abscisses \n",
    "mx=np.max(I)\n",
    "I_mod=np.linspace(mn,mx,500)\n",
    "U_mod=ordonnee_origine + pente*I_mod\n",
    "\n",
    "plt.figure(figsize=(10,8), dpi=80)\n",
    "\n",
    "plt.plot(I_mod, U_mod,\"-r\", label=\"modélisation des données\")\n",
    "plt.plot(I, UAB, \"b+\", label=\"données expérimentales\")\n",
    "# Ecriture scientifique pour l'affichage de l'intensité\n",
    "plt.ticklabel_format(style='scientific', axis='x', scilimits=(0,0))\n",
    "plt.xlabel(\"I (A)\")\n",
    "plt.ylabel(\"UAB (V)\")\n",
    "plt.legend() \n",
    "plt.title(\"Tension délivrée en fonction de l'intensité mesurée\")\n",
    "\n",
    "plt.show() "
   ]
  },
  {
   "cell_type": "code",
   "execution_count": null,
   "metadata": {},
   "outputs": [],
   "source": [
    "# Tracé avec affichage de l'équation de la droite\n",
    "plt.plot(I_mod, U_mod,'-r',label=\"modélisation des données\")\n",
    "plt.plot(I, UAB, \"bo\", label=\"données expérimentales\")\n",
    "# Ecriture scientifique pour l'affichage de l'intensité\n",
    "plt.ticklabel_format(style='scientific', axis='x', scilimits=(0,0))\n",
    "plt.xlabel(\"I (A)\")\n",
    "plt.ylabel(\"UAB (V)\")\n",
    "plt.legend() \n",
    "plt.title(\"Tension délivrée en fonction de l'intensité mesurée\")\n",
    "\n",
    "# Affichage de la pente et de l'ordonnée à l'origine sur le graphique\n",
    "#(le signe multiplié est codé par le caractère Unicode 215) dans une boite de texte.\n",
    "# On renseigne les coordonnées d'affichage de la boite de texte et le texte à afficher\n",
    "plt.text(3,1.2,\"UAB=\" + str(ordonnee_origine_a)+ chr(43)+ str(pente_a)+ chr(215)+\"I\"\n",
    "        ,size=12,  \n",
    "         # On crée une boite aux coins ronds, au bord noir et remplie en cyan \n",
    "         bbox=dict(boxstyle=\"round\",ec=(\"k\"),fc=(\"c\")))\n",
    "\n",
    "plt.savefig('caracteristique_U_I.png')"
   ]
  },
  {
   "cell_type": "markdown",
   "metadata": {},
   "source": [
    "Ouvrir le fichier créé (caracteristique_U_I.png).  \n",
    "Dans le **menu**, cliquer sur **File** puis **Open**.  \n",
    "Dans la liste qui apparaît, double-cliquer sur le fichier, ou le télécharger (*Download*) après avoir coché la case à côté."
   ]
  },
  {
   "cell_type": "code",
   "execution_count": null,
   "metadata": {},
   "outputs": [],
   "source": []
  }
 ],
 "metadata": {
  "kernelspec": {
   "display_name": "Python 3",
   "language": "python",
   "name": "python3"
  },
  "language_info": {
   "codemirror_mode": {
    "name": "ipython",
    "version": 3
   },
   "file_extension": ".py",
   "mimetype": "text/x-python",
   "name": "python",
   "nbconvert_exporter": "python",
   "pygments_lexer": "ipython3",
   "version": "3.7.3"
  }
 },
 "nbformat": 4,
 "nbformat_minor": 2
}
